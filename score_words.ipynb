{
 "cells": [
  {
   "cell_type": "markdown",
   "id": "b7392ae1",
   "metadata": {},
   "source": [
    "# Score Words Script\n",
    "\n",
    "This script applies a super simple algorithm to try to estimate the \"best\" wordle words.\n",
    "\n",
    "Essentially, using the data of frequency of letters in each position we got from score_words.py, we score each letter with its frequency.\n",
    "\n",
    "Here is an example: **SEAME**\n",
    "\n",
    "- S in the first position occurs in 366 words, so we add 366 to SEAME's score\n",
    "- E in the second position: 242\n",
    "- A in the third position: 307\n",
    "- M: in the fourth position: 68\n",
    "- E in the last position: 424\n",
    "\n",
    "We then sum these to get SEAME's score of **1407**."
   ]
  },
  {
   "cell_type": "code",
   "execution_count": null,
   "id": "6ff904e3",
   "metadata": {},
   "outputs": [],
   "source": [
    "from collections import defaultdict\n",
    "import ast\n",
    "\n",
    "# Load positional values dynamically\n",
    "pos_vals = []\n",
    "with open(\"./data/letter_counts.txt\") as f:\n",
    "    for line in f:\n",
    "        if line.strip():\n",
    "            # Each line looks like: Position 0: {'S': 366, ...}\n",
    "            _, dict_str = line.split(\":\", 1)\n",
    "            pos_vals.append(ast.literal_eval(dict_str.strip()))\n",
    "\n",
    "def score_word(word: str) -> int:\n",
    "    word = word.upper()\n",
    "    if len(word) != 5: \n",
    "        return -1\n",
    "    total = 0\n",
    "    for i, ch in enumerate(word):\n",
    "        total += pos_vals[i].get(ch, 0)\n",
    "    return total\n",
    "\n",
    "# Seed list of common valid guesses (heavily letter-frequency-biased).\n",
    "with open(\"./guesses.txt\") as f:\n",
    "    candidate_words = [w.strip().upper() for w in f if len(w.strip()) == 5]\n",
    "\n",
    "# Deduplicate and keep only alphabetic 5-letter words to be safe\n",
    "cand = []\n",
    "seen = set()\n",
    "for w in candidate_words:\n",
    "    w = w.upper()\n",
    "    if len(w) == 5 and w.isalpha() and w not in seen:\n",
    "        seen.add(w)\n",
    "        cand.append(w)\n",
    "\n",
    "scored = [(w, score_word(w)) for w in cand]\n",
    "scored.sort(key=lambda x: x[1], reverse=True)"
   ]
  },
  {
   "cell_type": "markdown",
   "id": "3a15f28c",
   "metadata": {},
   "source": [
    "### Running the Script\n",
    "There are three ways to run this, the first block, here, prints the top 10 scores to the terminal."
   ]
  },
  {
   "cell_type": "code",
   "execution_count": null,
   "id": "34e36101",
   "metadata": {},
   "outputs": [],
   "source": [
    "# Print out all top ten scorers\n",
    "print(scored[:10])"
   ]
  },
  {
   "cell_type": "markdown",
   "id": "2300f603",
   "metadata": {},
   "source": [
    "### Run By Vowel Count\n",
    "The second block is based off an observation I made while browsing Reddit, a lot of people intuitively believe more vowels = better. But Wordle pros actually argue that fewer vowels in your opener are better, no clue why, their reasons were complex. But I wanted to test the theory.\n",
    "\n",
    "So in this section, you can define how many vowels you want in your word, so print off the top 10 words with 2 vowels."
   ]
  },
  {
   "cell_type": "code",
   "execution_count": null,
   "id": "eaf5b8d3",
   "metadata": {},
   "outputs": [],
   "source": [
    "vowels = ['A', 'E', 'I', 'O', 'U']\n",
    "# Print only first 10 words with VOWEL_COUNT vowel(s)\n",
    "count = 0\n",
    "VOWEL_COUNT = 2\n",
    "for word, score in scored:\n",
    "    if sum(1 for ch in word if ch in vowels) == VOWEL_COUNT:\n",
    "        print(word, score)\n",
    "        count += 1\n",
    "    if count >= 10:\n",
    "        break"
   ]
  },
  {
   "cell_type": "markdown",
   "id": "0e59de2e",
   "metadata": {},
   "source": [
    "### Create File\n",
    "Finally, for easier management this method allows you to print out a ton of these words to an external file. This is for use in the next script, the simulator."
   ]
  },
  {
   "cell_type": "code",
   "execution_count": null,
   "id": "f9f43d41",
   "metadata": {},
   "outputs": [],
   "source": [
    "# Find the top 100 words and export them to top_words.txt\n",
    "with open(\"./data/top_words.txt\", \"w\") as f:\n",
    "    for word, score in scored[:100]:\n",
    "        f.write(f\"{word}: {score}\\n\")"
   ]
  }
 ],
 "metadata": {
  "language_info": {
   "name": "python"
  }
 },
 "nbformat": 4,
 "nbformat_minor": 5
}
