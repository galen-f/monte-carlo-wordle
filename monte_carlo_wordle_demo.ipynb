{
 "cells": [
  {
   "cell_type": "markdown",
   "id": "ba7b4f2f",
   "metadata": {},
   "source": [
    "\n",
    "# 👋 Welcome!\n",
    "\n",
    "This notebook demonstrates Monte Carlo with a familiar example: **Wordle!**\n",
    "\n",
    "You'll see how we:\n",
    "1. Model a minimal Wordle environment\n",
    "2. Simulate many possible hidden words\n",
    "3. Summarize how well a specific opener word performs\n",
    "\n",
    "**The key idea:** We are *not* guessing today's word, rather measuring the quality of an opener in an uncertain environment."
   ]
  },
  {
   "cell_type": "markdown",
   "id": "2d37655f",
   "metadata": {},
   "source": [
    "## 1. Setup and Data\n",
    "The list of words for wordle can be found in serveral places. I got these lists from https://github.com/Kinkelin/WordleCompetition/tree/main/data/official.\n",
    "\n",
    "We sort them into *answers.txt* and *guesses.txt*. These can be found in the root folder of this repository."
   ]
  },
  {
   "cell_type": "code",
   "execution_count": 1,
   "id": "c18b2888",
   "metadata": {},
   "outputs": [],
   "source": [
    "# Set up the global variables and housekeeping.\n",
    "\n",
    "from collections import Counter\n",
    "from random import Random\n",
    "import matplotlib.pyplot as plt\n",
    "\n",
    "# --- Load Word Lists ---\n",
    "# Answers are all possible wordle answer about 2000 words.\n",
    "with open(\"./data/answers.txt\") as f:\n",
    "    ANSWERS = [w.strip().upper() for w in f if len(w.strip()) == 5]\n",
    "\n",
    "# Guesses are all possible wordle guesses and the possible answers combined about 12000 words.\n",
    "with open(\"./data/guesses.txt\") as f:\n",
    "    GUESSES = [w.strip().upper() for w in f if len(w.strip()) == 5]"
   ]
  },
  {
   "cell_type": "markdown",
   "id": "4291d539",
   "metadata": {},
   "source": [
    "*Note:* We split the list into valid answers and valid guesses, this is what Wordle does, not all words you can guess are actually possible answers to the puzzle.\n",
    "\n",
    "## 2. Wordle Environment\n",
    "This section handles the guesses, which letters are good and which are bad, and handles duplicate letters correctly. The narrows the list of words to be consistent with the feedback."
   ]
  },
  {
   "cell_type": "code",
   "execution_count": 2,
   "id": "2f05d998",
   "metadata": {},
   "outputs": [],
   "source": [
    "# --- Feedback Function ---\n",
    "def feedback(secret: str, guess: str):\n",
    "    \"\"\"Return pattern as tuple of G/Y/- (greens, yellows, grays).\"\"\"\n",
    "    secret = secret.upper(); guess = guess.upper()\n",
    "    res = [\"-\"] * 5\n",
    "    counts = Counter(secret)\n",
    "\n",
    "    # Greens\n",
    "    for i in range(5):\n",
    "        if guess[i] == secret[i]:\n",
    "            res[i] = \"G\"\n",
    "            counts[guess[i]] -= 1\n",
    "\n",
    "    # Yellows\n",
    "    for i in range(5):\n",
    "        if res[i] == \"G\":\n",
    "            continue\n",
    "        if counts[guess[i]] > 0:\n",
    "            res[i] = \"Y\"\n",
    "            counts[guess[i]] -= 1\n",
    "\n",
    "    return tuple(res)\n",
    "\n",
    "def filter_candidates(cands, guess, patt):\n",
    "    \"\"\"Keep only words consistent with guess & feedback pattern.\"\"\"\n",
    "    return [w for w in cands if feedback(w, guess) == patt]"
   ]
  },
  {
   "cell_type": "markdown",
   "id": "5c4d57c3",
   "metadata": {},
   "source": [
    "## 3. Strategy\n",
    "To keep the focus on the monte carlo simulation, we use a simple strategy and just pick the first \"eligible\" word in the list when guessing."
   ]
  },
  {
   "cell_type": "code",
   "execution_count": 3,
   "id": "8a273cf3",
   "metadata": {},
   "outputs": [],
   "source": [
    "# --- The actual gameplay strategy ---\n",
    "def play_one(secret, opener, max_guesses=6):\n",
    "    \"\"\"\n",
    "    Play one game:\n",
    "    - Start with `opener`\n",
    "    - Then always pick the first candidate from remaining ANSWERS\n",
    "    \"\"\"\n",
    "    cands = ANSWERS[:]  # secrets are always from the ANSWERS list\n",
    "    guess = opener.upper()\n",
    "\n",
    "    for turn in range(1, max_guesses + 1):\n",
    "        patt = feedback(secret, guess)\n",
    "        if patt == (\"G\",\"G\",\"G\",\"G\",\"G\"):\n",
    "            return turn, True\n",
    "\n",
    "        cands = filter_candidates(cands, guess, patt)\n",
    "        if not cands:\n",
    "            return turn, False\n",
    "\n",
    "        # Next guess: naive (first candidate in sorted order)\n",
    "        guess = sorted(cands)[0]\n",
    "\n",
    "    return max_guesses, False"
   ]
  },
  {
   "cell_type": "markdown",
   "id": "e261089b",
   "metadata": {},
   "source": [
    "## 4. Monte Carlo\n",
    "**Goal** estimate how good the word is on *average*, not simulating one specific game.\n",
    "\n",
    "- Randomly sample a set of words from answers.txt\n",
    "- Play a game where the answer is that word\n",
    "- Measure the success rate within 6 guesses\n",
    "\n",
    "*This* is what Monte Carlo is about, random sampling + repeated trials + aggregation"
   ]
  },
  {
   "cell_type": "code",
   "execution_count": 4,
   "id": "e9a7cc0e",
   "metadata": {},
   "outputs": [],
   "source": [
    "# --- Monte Carlo Simulation ---\n",
    "def run_monte_carlo(opener, trials, seed=42):\n",
    "    \"\"\"\n",
    "    Run Monte Carlo simulation:\n",
    "    - Randomly sample `trials` secrets from ANSWERS\n",
    "    - Play each game with the strategy\n",
    "    - Summarize results\n",
    "    \"\"\"\n",
    "    rng = Random(seed)\n",
    "    secrets = rng.sample(ANSWERS, min(trials, len(ANSWERS)))\n",
    "\n",
    "    results = [play_one(s, opener=opener) for s in secrets]\n",
    "    solved = [t for (t, ok) in results if ok]\n",
    "\n",
    "    success_rate = len(solved) / len(secrets)\n",
    "    avg_guesses = sum(solved) / len(solved) if solved else float('nan')\n",
    "\n",
    "    print(f\"Opener: {opener}\")\n",
    "    print(f\"Secrets tested: {len(secrets)}\")\n",
    "    print(f\"Success within 6: {success_rate:.1%}\")\n",
    "    print(f\"Average guesses (solved only): {avg_guesses:.2f}\")"
   ]
  },
  {
   "cell_type": "code",
   "execution_count": 5,
   "id": "6ba40a62",
   "metadata": {},
   "outputs": [
    {
     "name": "stdout",
     "output_type": "stream",
     "text": [
      "Opener: SOARE\n",
      "Secrets tested: 500\n",
      "Success within 6: 97.6%\n",
      "Average guesses (solved only): 3.94\n"
     ]
    }
   ],
   "source": [
    "# Example run\n",
    "# Sub in your starting word\n",
    "run_monte_carlo(opener=\"SOARE\", trials=500)"
   ]
  },
  {
   "cell_type": "markdown",
   "id": "a2405519",
   "metadata": {},
   "source": [
    "### 👉 Try:\n",
    "- Change the opener\n",
    "- Increase the trails\n",
    "- Making a smarter strategy"
   ]
  }
 ],
 "metadata": {
  "kernelspec": {
   "display_name": "Python 3",
   "language": "python",
   "name": "python3"
  },
  "language_info": {
   "codemirror_mode": {
    "name": "ipython",
    "version": 3
   },
   "file_extension": ".py",
   "mimetype": "text/x-python",
   "name": "python",
   "nbconvert_exporter": "python",
   "pygments_lexer": "ipython3",
   "version": "3.11.4"
  }
 },
 "nbformat": 4,
 "nbformat_minor": 5
}
